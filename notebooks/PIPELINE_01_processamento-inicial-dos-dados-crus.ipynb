{
 "cells": [
  {
   "cell_type": "code",
   "execution_count": 21,
   "metadata": {},
   "outputs": [],
   "source": [
    "import numpy as np\n",
    "import pandas as pd\n",
    "import seaborn as sns\n",
    "import matplotlib.pyplot as plt\n",
    "%matplotlib inline"
   ]
  },
  {
   "cell_type": "code",
   "execution_count": 22,
   "metadata": {},
   "outputs": [],
   "source": [
    "def loadingRawData(raw_data_path='~/Mini-projetos/Breast Cancer/data/raw/wdbc.data', features_names_path='~/Mini-projetos/Breast Cancer/data/raw/features.csv'):\n",
    "    '''\n",
    "    retorna uma tupla contendo dois dataframes: (dados de cancer, nome das features)\n",
    "    '''\n",
    "    import pandas as pd\n",
    "    \n",
    "    cancer_raw_data = pd.read_csv(raw_data_path, header=None)\n",
    "    features_names_data = pd.read_csv(features_names_path)\n",
    "    return (cancer_raw_data, features_names_data)\n",
    "\n",
    "def renamingRawData(cancer_raw_data, features_names_data):\n",
    "    '''\n",
    "    renomeia devidamente as colunas dos dados crus de cancer de mama\n",
    "    '''\n",
    "    import pandas as pd \n",
    "    \n",
    "    columns_names = features_names_data.columns.tolist()\n",
    "    cancer_raw_data.columns = columns_names\n",
    "    cancer_raw_data = cancer_raw_data.set_index('id')\n",
    "    return cancer_raw_data"
   ]
  },
  {
   "cell_type": "code",
   "execution_count": 23,
   "metadata": {},
   "outputs": [],
   "source": [
    "cancer_raw_data, features_names_data = loadingRawData()\n",
    "cancer_data = renamingRawData(cancer_raw_data, features_names_data)\n",
    "cancer_data.to_csv('~/Mini-projetos/Breast Cancer/data/processed/cancer_data.csv')"
   ]
  }
 ],
 "metadata": {
  "kernelspec": {
   "display_name": "Python 3",
   "language": "python",
   "name": "python3"
  },
  "language_info": {
   "codemirror_mode": {
    "name": "ipython",
    "version": 3
   },
   "file_extension": ".py",
   "mimetype": "text/x-python",
   "name": "python",
   "nbconvert_exporter": "python",
   "pygments_lexer": "ipython3",
   "version": "3.6.8"
  }
 },
 "nbformat": 4,
 "nbformat_minor": 2
}
